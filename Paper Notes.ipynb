{
 "cells": [
  {
   "cell_type": "markdown",
   "metadata": {},
   "source": [
    "# Credit conditions, macroprudential policy and house prices\n",
    "\n",
    "__Authors__: Robert Kelly, Fergal McCann, Conor O'Toole\n",
    "__Publication__: Journal of Housing Economics\n",
    "\n",
    "### Abstract\n",
    "\n",
    "Finds a 10% increase in credit leads to 1.5% increase in value ofthe property purchased. Looks at LTV (Loan to Value ratios), Loan to Income ratios (LTI), and monthly Debt Service Ratios (DSRR). Property-level house price model is employed. Looks at 2003-2010. \n",
    "\n",
    "### Introduction\n",
    "\n",
    "The paper addresses the hetergeneity in LTV and LTI ratios used in identifying models. "
   ]
  },
  {
   "cell_type": "markdown",
   "metadata": {},
   "source": [
    "\\"
   ]
  }
 ],
 "metadata": {
  "kernelspec": {
   "display_name": "Python 3",
   "language": "python",
   "name": "python3"
  },
  "language_info": {
   "codemirror_mode": {
    "name": "ipython",
    "version": 3
   },
   "file_extension": ".py",
   "mimetype": "text/x-python",
   "name": "python",
   "nbconvert_exporter": "python",
   "pygments_lexer": "ipython3",
   "version": "3.8.5"
  }
 },
 "nbformat": 4,
 "nbformat_minor": 4
}
